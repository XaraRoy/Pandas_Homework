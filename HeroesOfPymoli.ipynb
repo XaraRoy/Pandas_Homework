{
 "cells": [
  {
   "cell_type": "markdown",
   "metadata": {},
   "source": [
    "### Heroes Of Pymoli Data Analysis\n",
    "* Of the 1163 active players, the vast majority are male (84%). There also exists, a smaller, but notable proportion of female players (14%).\n",
    "\n",
    "* Our peak age demographic falls between 20-24 (44.8%) with secondary groups falling between 15-19 (18.60%) and 25-29 (13.4%).  \n",
    "-----"
   ]
  },
  {
   "cell_type": "markdown",
   "metadata": {},
   "source": [
    "### Note\n",
    "* Instructions have been included for each segment. You do not have to follow them exactly, but they are included to help you think through the steps."
   ]
  },
  {
   "cell_type": "code",
   "execution_count": 1,
   "metadata": {},
   "outputs": [],
   "source": [
    "# Dependencies and Setup\n",
    "import pandas as pd\n",
    "import numpy as np\n",
    "\n",
    "# Raw data file\n",
    "file_to_load = \"Resources/purchase_data.csv\"\n",
    "\n",
    "# Read purchasing file and store into pandas data frame\n",
    "purchase_data = pd.read_csv(file_to_load)"
   ]
  },
  {
   "cell_type": "markdown",
   "metadata": {},
   "source": [
    "## Player Count"
   ]
  },
  {
   "cell_type": "markdown",
   "metadata": {},
   "source": [
    "* Display the total number of players\n"
   ]
  },
  {
   "cell_type": "code",
   "execution_count": 2,
   "metadata": {},
   "outputs": [
    {
     "name": "stdout",
     "output_type": "stream",
     "text": [
      "There are 576 unique players in Pymoli!\n"
     ]
    }
   ],
   "source": [
    "unique_player_count = purchase_data[\"SN\"].nunique()\n",
    "print(f\"There are {unique_player_count} unique players in Pymoli!\")"
   ]
  },
  {
   "cell_type": "markdown",
   "metadata": {},
   "source": [
    "## Purchasing Analysis (Total)"
   ]
  },
  {
   "cell_type": "markdown",
   "metadata": {},
   "source": [
    "* Run basic calculations to obtain number of unique items, average price, etc.\n",
    "\n",
    "\n",
    "* Create a summary data frame to hold the results\n",
    "\n",
    "\n",
    "* Optional: give the displayed data cleaner formatting\n",
    "\n",
    "\n",
    "* Display the summary data frame\n"
   ]
  },
  {
   "cell_type": "code",
   "execution_count": 3,
   "metadata": {
    "scrolled": true
   },
   "outputs": [
    {
     "data": {
      "text/html": [
       "<div>\n",
       "<style scoped>\n",
       "    .dataframe tbody tr th:only-of-type {\n",
       "        vertical-align: middle;\n",
       "    }\n",
       "\n",
       "    .dataframe tbody tr th {\n",
       "        vertical-align: top;\n",
       "    }\n",
       "\n",
       "    .dataframe thead th {\n",
       "        text-align: right;\n",
       "    }\n",
       "</style>\n",
       "<table border=\"1\" class=\"dataframe\">\n",
       "  <thead>\n",
       "    <tr style=\"text-align: right;\">\n",
       "      <th></th>\n",
       "      <th>Number of Unqiue Items</th>\n",
       "      <th>Average Price</th>\n",
       "      <th>Number of Purchases</th>\n",
       "      <th>Total Revenue</th>\n",
       "    </tr>\n",
       "  </thead>\n",
       "  <tbody>\n",
       "    <tr>\n",
       "      <th>0</th>\n",
       "      <td>183</td>\n",
       "      <td>3.05</td>\n",
       "      <td>780</td>\n",
       "      <td>2379.77</td>\n",
       "    </tr>\n",
       "  </tbody>\n",
       "</table>\n",
       "</div>"
      ],
      "text/plain": [
       "   Number of Unqiue Items  Average Price  Number of Purchases  Total Revenue\n",
       "0                     183           3.05                  780        2379.77"
      ]
     },
     "execution_count": 3,
     "metadata": {},
     "output_type": "execute_result"
    }
   ],
   "source": [
    "item_count = purchase_data['Item ID'].nunique()\n",
    "num_purchases = purchase_data['Item ID'].count()\n",
    "Avg_price = round(purchase_data[\"Price\"].mean(), 2)\n",
    "Total_revenue = purchase_data[\"Price\"].sum()\n",
    "Summary = pd.DataFrame({'Number of Unqiue Items': [item_count], 'Average Price': [Avg_price], \n",
    "      \"Number of Purchases\": [num_purchases], \"Total Revenue\": Total_revenue})\n",
    "Summary.head()\n"
   ]
  },
  {
   "cell_type": "markdown",
   "metadata": {},
   "source": [
    "## Gender Demographics"
   ]
  },
  {
   "cell_type": "markdown",
   "metadata": {},
   "source": [
    "* Percentage and Count of Male Players\n",
    "\n",
    "\n",
    "* Percentage and Count of Female Players\n",
    "\n",
    "\n",
    "* Percentage and Count of Other / Non-Disclosed\n",
    "\n",
    "\n"
   ]
  },
  {
   "cell_type": "code",
   "execution_count": 4,
   "metadata": {},
   "outputs": [
    {
     "data": {
      "text/html": [
       "<div>\n",
       "<style scoped>\n",
       "    .dataframe tbody tr th:only-of-type {\n",
       "        vertical-align: middle;\n",
       "    }\n",
       "\n",
       "    .dataframe tbody tr th {\n",
       "        vertical-align: top;\n",
       "    }\n",
       "\n",
       "    .dataframe thead th {\n",
       "        text-align: right;\n",
       "    }\n",
       "</style>\n",
       "<table border=\"1\" class=\"dataframe\">\n",
       "  <thead>\n",
       "    <tr style=\"text-align: right;\">\n",
       "      <th></th>\n",
       "      <th>Player Count</th>\n",
       "      <th>Percentage of Playerbase</th>\n",
       "    </tr>\n",
       "  </thead>\n",
       "  <tbody>\n",
       "    <tr>\n",
       "      <th>Male</th>\n",
       "      <td>484</td>\n",
       "      <td>84.03</td>\n",
       "    </tr>\n",
       "    <tr>\n",
       "      <th>Female</th>\n",
       "      <td>81</td>\n",
       "      <td>14.06</td>\n",
       "    </tr>\n",
       "    <tr>\n",
       "      <th>Other / Non-Disclosed</th>\n",
       "      <td>11</td>\n",
       "      <td>1.91</td>\n",
       "    </tr>\n",
       "  </tbody>\n",
       "</table>\n",
       "</div>"
      ],
      "text/plain": [
       "                       Player Count  Percentage of Playerbase\n",
       "Male                            484                     84.03\n",
       "Female                           81                     14.06\n",
       "Other / Non-Disclosed            11                      1.91"
      ]
     },
     "execution_count": 4,
     "metadata": {},
     "output_type": "execute_result"
    }
   ],
   "source": [
    "players = purchase_data[['Gender','SN']].drop_duplicates(keep = \"first\")\n",
    "gender_counts = players['Gender'].value_counts()\n",
    "percentage = round(gender_counts / gender_counts.sum() * 100,2)\n",
    "Genders = pd.concat([gender_counts,percentage ], axis = 1)\n",
    "Genders.columns = [\"Player Count\", \"Percentage of Playerbase\"]\n",
    "Genders"
   ]
  },
  {
   "cell_type": "markdown",
   "metadata": {},
   "source": [
    "\n",
    "## Purchasing Analysis (Gender)"
   ]
  },
  {
   "cell_type": "markdown",
   "metadata": {},
   "source": [
    "* Run basic calculations to obtain purchase count, avg. purchase price, avg. purchase total per person etc. by gender\n",
    "\n",
    "\n",
    "\n",
    "\n",
    "* Create a summary data frame to hold the results\n",
    "\n",
    "\n",
    "* Optional: give the displayed data cleaner formatting\n",
    "\n",
    "\n",
    "* Display the summary data frame"
   ]
  },
  {
   "cell_type": "code",
   "execution_count": 5,
   "metadata": {},
   "outputs": [
    {
     "data": {
      "text/html": [
       "<div>\n",
       "<style scoped>\n",
       "    .dataframe tbody tr th:only-of-type {\n",
       "        vertical-align: middle;\n",
       "    }\n",
       "\n",
       "    .dataframe tbody tr th {\n",
       "        vertical-align: top;\n",
       "    }\n",
       "\n",
       "    .dataframe thead th {\n",
       "        text-align: right;\n",
       "    }\n",
       "</style>\n",
       "<table border=\"1\" class=\"dataframe\">\n",
       "  <thead>\n",
       "    <tr style=\"text-align: right;\">\n",
       "      <th></th>\n",
       "      <th>Player Count</th>\n",
       "      <th>Percentage of Playerbase</th>\n",
       "      <th>Average Price</th>\n",
       "      <th>Number of Purchases</th>\n",
       "      <th>Total Revenue</th>\n",
       "    </tr>\n",
       "  </thead>\n",
       "  <tbody>\n",
       "    <tr>\n",
       "      <th>Female</th>\n",
       "      <td>81</td>\n",
       "      <td>14.06</td>\n",
       "      <td>0</td>\n",
       "      <td>0</td>\n",
       "      <td>0</td>\n",
       "    </tr>\n",
       "    <tr>\n",
       "      <th>Male</th>\n",
       "      <td>484</td>\n",
       "      <td>84.03</td>\n",
       "      <td>0</td>\n",
       "      <td>0</td>\n",
       "      <td>0</td>\n",
       "    </tr>\n",
       "    <tr>\n",
       "      <th>Other / Non-Disclosed</th>\n",
       "      <td>11</td>\n",
       "      <td>1.91</td>\n",
       "      <td>0</td>\n",
       "      <td>0</td>\n",
       "      <td>0</td>\n",
       "    </tr>\n",
       "  </tbody>\n",
       "</table>\n",
       "</div>"
      ],
      "text/plain": [
       "                       Player Count  Percentage of Playerbase  Average Price  \\\n",
       "Female                           81                     14.06              0   \n",
       "Male                            484                     84.03              0   \n",
       "Other / Non-Disclosed            11                      1.91              0   \n",
       "\n",
       "                       Number of Purchases  Total Revenue  \n",
       "Female                                   0              0  \n",
       "Male                                     0              0  \n",
       "Other / Non-Disclosed                    0              0  "
      ]
     },
     "execution_count": 5,
     "metadata": {},
     "output_type": "execute_result"
    }
   ],
   "source": [
    "Summary_DF = {'Average Price': 0,\"Number of Purchases\": 0,\n",
    "                            \"Total Revenue\": 0}\n",
    "Summary_DF = pd.DataFrame(Summary_DF, index = ('Female', 'Male', 'Other / Non-Disclosed'))\n",
    "Genders.join(Summary_DF, how=\"outer\")"
   ]
  },
  {
   "cell_type": "code",
   "execution_count": 6,
   "metadata": {},
   "outputs": [],
   "source": [
    "##I Ran out of time, but I could made this more generic to work with most of the steps of this project##\n",
    "\n",
    "def Purchasing_Analysis_Gender(gender):\n",
    "    count_DF = purchase_data.loc[purchase_data['Gender'] == gender]\n",
    "    Genders.loc[gender, 'Number of Purchases'] = count_DF['Item ID'].count()\n",
    "    Genders.loc[gender, 'Average Price']  = round(count_DF[\"Price\"].mean(), 2)\n",
    "    Genders.loc[gender, 'Total Revenue'] = (count_DF[\"Price\"].sum())\n",
    "\n",
    "        \n",
    "\n"
   ]
  },
  {
   "cell_type": "code",
   "execution_count": null,
   "metadata": {},
   "outputs": [],
   "source": []
  },
  {
   "cell_type": "code",
   "execution_count": 7,
   "metadata": {},
   "outputs": [
    {
     "data": {
      "text/html": [
       "<div>\n",
       "<style scoped>\n",
       "    .dataframe tbody tr th:only-of-type {\n",
       "        vertical-align: middle;\n",
       "    }\n",
       "\n",
       "    .dataframe tbody tr th {\n",
       "        vertical-align: top;\n",
       "    }\n",
       "\n",
       "    .dataframe thead th {\n",
       "        text-align: right;\n",
       "    }\n",
       "</style>\n",
       "<table border=\"1\" class=\"dataframe\">\n",
       "  <thead>\n",
       "    <tr style=\"text-align: right;\">\n",
       "      <th></th>\n",
       "      <th>Player Count</th>\n",
       "      <th>Percentage of Playerbase</th>\n",
       "      <th>Number of Purchases</th>\n",
       "      <th>Average Price</th>\n",
       "      <th>Total Revenue</th>\n",
       "    </tr>\n",
       "  </thead>\n",
       "  <tbody>\n",
       "    <tr>\n",
       "      <th>Male</th>\n",
       "      <td>484</td>\n",
       "      <td>84.03</td>\n",
       "      <td>652.0</td>\n",
       "      <td>3.02</td>\n",
       "      <td>1967.64</td>\n",
       "    </tr>\n",
       "    <tr>\n",
       "      <th>Female</th>\n",
       "      <td>81</td>\n",
       "      <td>14.06</td>\n",
       "      <td>113.0</td>\n",
       "      <td>3.20</td>\n",
       "      <td>361.94</td>\n",
       "    </tr>\n",
       "    <tr>\n",
       "      <th>Other / Non-Disclosed</th>\n",
       "      <td>11</td>\n",
       "      <td>1.91</td>\n",
       "      <td>15.0</td>\n",
       "      <td>3.35</td>\n",
       "      <td>50.19</td>\n",
       "    </tr>\n",
       "  </tbody>\n",
       "</table>\n",
       "</div>"
      ],
      "text/plain": [
       "                       Player Count  Percentage of Playerbase  \\\n",
       "Male                            484                     84.03   \n",
       "Female                           81                     14.06   \n",
       "Other / Non-Disclosed            11                      1.91   \n",
       "\n",
       "                       Number of Purchases  Average Price  Total Revenue  \n",
       "Male                                 652.0           3.02        1967.64  \n",
       "Female                               113.0           3.20         361.94  \n",
       "Other / Non-Disclosed                 15.0           3.35          50.19  "
      ]
     },
     "execution_count": 7,
     "metadata": {},
     "output_type": "execute_result"
    }
   ],
   "source": [
    "Purchasing_Analysis_Gender('Male')\n",
    "Purchasing_Analysis_Gender('Female')\n",
    "Purchasing_Analysis_Gender('Other / Non-Disclosed')\n",
    "Genders.head()"
   ]
  },
  {
   "cell_type": "markdown",
   "metadata": {},
   "source": [
    "## Age Demographics"
   ]
  },
  {
   "cell_type": "markdown",
   "metadata": {},
   "source": [
    "* Establish bins for ages\n",
    "\n",
    "\n",
    "* Categorize the existing players using the age bins. Hint: use pd.cut()\n",
    "\n",
    "\n",
    "* Calculate the numbers and percentages by age group\n",
    "\n",
    "\n",
    "* Create a summary data frame to hold the results\n",
    "\n",
    "\n",
    "* Optional: round the percentage column to two decimal points\n",
    "\n",
    "\n",
    "* Display Age Demographics Table\n"
   ]
  },
  {
   "cell_type": "code",
   "execution_count": 8,
   "metadata": {},
   "outputs": [],
   "source": [
    "# Establish bins for ages\n",
    "bins = [0, 9.90, 14.90, 19.90, 24.90, 29.90, 34.90, 39.90, 99999]\n",
    "group_names = [\"0-10\", \"10-14\", \"15-19\", \"20-24\", \"25-29\", \"30-34\", \"35-39\", \"40+\"]\n",
    "Age_Binned = pd.cut(purchase_data[\"Age\"], bins, labels=group_names)\n",
    "Age_binned = pd.DataFrame(Age_Binned)\n",
    "purchase_data = purchase_data.set_index('Age')\n",
    "purchase_data = purchase_data.join(Age_binned, on=\"Age\", how=\"outer\")"
   ]
  },
  {
   "cell_type": "code",
   "execution_count": 9,
   "metadata": {},
   "outputs": [],
   "source": [
    "\n",
    "Ages = Age_Binned.value_counts()\n",
    "percentage = round(Ages / Ages.sum() * 100,2)\n",
    "Ages_DF = pd.concat([Ages ,percentage ], axis = 1)\n",
    "Ages_DF.columns = [\"Player Count\", \"Percentage of Playerbase\"]\n",
    "Summary_DF = {'Average Price': 0,\"Number of Purchases\": 0,\n",
    "                            \"Total Revenue\": 0}\n",
    "Summary_DF = pd.DataFrame(Summary_DF, index =group_names)\n",
    "Ages_DF = Ages_DF.join(Summary_DF, how=\"outer\")\n",
    "purchase_data = purchase_data.rename(columns={'Age':'Age Group'})\n",
    "purchase_data = purchase_data.rename(columns={'Age':'Age Group'})\n",
    "purchase_data = purchase_data.dropna()\n"
   ]
  },
  {
   "cell_type": "code",
   "execution_count": 10,
   "metadata": {},
   "outputs": [
    {
     "data": {
      "text/html": [
       "<div>\n",
       "<style scoped>\n",
       "    .dataframe tbody tr th:only-of-type {\n",
       "        vertical-align: middle;\n",
       "    }\n",
       "\n",
       "    .dataframe tbody tr th {\n",
       "        vertical-align: top;\n",
       "    }\n",
       "\n",
       "    .dataframe thead th {\n",
       "        text-align: right;\n",
       "    }\n",
       "</style>\n",
       "<table border=\"1\" class=\"dataframe\">\n",
       "  <thead>\n",
       "    <tr style=\"text-align: right;\">\n",
       "      <th></th>\n",
       "      <th>Player Count</th>\n",
       "      <th>Percentage of Playerbase</th>\n",
       "      <th>Average Price</th>\n",
       "      <th>Number of Purchases</th>\n",
       "      <th>Total Revenue</th>\n",
       "    </tr>\n",
       "  </thead>\n",
       "  <tbody>\n",
       "    <tr>\n",
       "      <th>0-10</th>\n",
       "      <td>23</td>\n",
       "      <td>2.95</td>\n",
       "      <td>2.82</td>\n",
       "      <td>31</td>\n",
       "      <td>87.55</td>\n",
       "    </tr>\n",
       "    <tr>\n",
       "      <th>10-14</th>\n",
       "      <td>28</td>\n",
       "      <td>3.59</td>\n",
       "      <td>3.13</td>\n",
       "      <td>31</td>\n",
       "      <td>97.03</td>\n",
       "    </tr>\n",
       "    <tr>\n",
       "      <th>15-19</th>\n",
       "      <td>136</td>\n",
       "      <td>17.44</td>\n",
       "      <td>3.03</td>\n",
       "      <td>45</td>\n",
       "      <td>136.38</td>\n",
       "    </tr>\n",
       "    <tr>\n",
       "      <th>20-24</th>\n",
       "      <td>365</td>\n",
       "      <td>46.79</td>\n",
       "      <td>3.07</td>\n",
       "      <td>367</td>\n",
       "      <td>1126.04</td>\n",
       "    </tr>\n",
       "    <tr>\n",
       "      <th>25-29</th>\n",
       "      <td>101</td>\n",
       "      <td>12.95</td>\n",
       "      <td>3.08</td>\n",
       "      <td>59</td>\n",
       "      <td>181.90</td>\n",
       "    </tr>\n",
       "  </tbody>\n",
       "</table>\n",
       "</div>"
      ],
      "text/plain": [
       "       Player Count  Percentage of Playerbase  Average Price  \\\n",
       "0-10             23                      2.95           2.82   \n",
       "10-14            28                      3.59           3.13   \n",
       "15-19           136                     17.44           3.03   \n",
       "20-24           365                     46.79           3.07   \n",
       "25-29           101                     12.95           3.08   \n",
       "\n",
       "       Number of Purchases  Total Revenue  \n",
       "0-10                    31          87.55  \n",
       "10-14                   31          97.03  \n",
       "15-19                   45         136.38  \n",
       "20-24                  367        1126.04  \n",
       "25-29                   59         181.90  "
      ]
     },
     "execution_count": 10,
     "metadata": {},
     "output_type": "execute_result"
    }
   ],
   "source": [
    "for Age_Group in group_names:\n",
    "    age_grouped = purchase_data.loc[purchase_data['Age Group'] == Age_Group]\n",
    "    Ages_DF.loc[Age_Group, 'Average Price'] = round(age_grouped[\"Price\"].mean(), 2)\n",
    "    Ages_DF.loc[Age_Group, 'Number of Purchases'] = age_grouped['Item ID'].count()\n",
    "    Ages_DF.loc[Age_Group, 'Total Revenue'] = (age_grouped[\"Price\"].sum())\n",
    "\n",
    "Ages_DF.head()"
   ]
  },
  {
   "cell_type": "code",
   "execution_count": 11,
   "metadata": {},
   "outputs": [
    {
     "data": {
      "text/html": [
       "<div>\n",
       "<style scoped>\n",
       "    .dataframe tbody tr th:only-of-type {\n",
       "        vertical-align: middle;\n",
       "    }\n",
       "\n",
       "    .dataframe tbody tr th {\n",
       "        vertical-align: top;\n",
       "    }\n",
       "\n",
       "    .dataframe thead th {\n",
       "        text-align: right;\n",
       "    }\n",
       "</style>\n",
       "<table border=\"1\" class=\"dataframe\">\n",
       "  <thead>\n",
       "    <tr style=\"text-align: right;\">\n",
       "      <th></th>\n",
       "      <th>SN</th>\n",
       "      <th>Number of Purchases</th>\n",
       "      <th>Average Purchase Price</th>\n",
       "      <th>Total Purchase Value</th>\n",
       "    </tr>\n",
       "  </thead>\n",
       "  <tbody>\n",
       "    <tr>\n",
       "      <th>Lisosia93</th>\n",
       "      <td>Lisosia93</td>\n",
       "      <td>5.0</td>\n",
       "      <td>3.79</td>\n",
       "      <td>18.96</td>\n",
       "    </tr>\n",
       "    <tr>\n",
       "      <th>Iral74</th>\n",
       "      <td>Iral74</td>\n",
       "      <td>4.0</td>\n",
       "      <td>3.40</td>\n",
       "      <td>13.62</td>\n",
       "    </tr>\n",
       "    <tr>\n",
       "      <th>Idastidru52</th>\n",
       "      <td>Idastidru52</td>\n",
       "      <td>4.0</td>\n",
       "      <td>3.86</td>\n",
       "      <td>15.45</td>\n",
       "    </tr>\n",
       "    <tr>\n",
       "      <th>Raesty92</th>\n",
       "      <td>Raesty92</td>\n",
       "      <td>3.0</td>\n",
       "      <td>2.91</td>\n",
       "      <td>8.73</td>\n",
       "    </tr>\n",
       "    <tr>\n",
       "      <th>Yathecal82</th>\n",
       "      <td>Yathecal82</td>\n",
       "      <td>3.0</td>\n",
       "      <td>2.07</td>\n",
       "      <td>6.22</td>\n",
       "    </tr>\n",
       "  </tbody>\n",
       "</table>\n",
       "</div>"
      ],
      "text/plain": [
       "                      SN  Number of Purchases  Average Purchase Price  \\\n",
       "Lisosia93      Lisosia93                  5.0                    3.79   \n",
       "Iral74            Iral74                  4.0                    3.40   \n",
       "Idastidru52  Idastidru52                  4.0                    3.86   \n",
       "Raesty92        Raesty92                  3.0                    2.91   \n",
       "Yathecal82    Yathecal82                  3.0                    2.07   \n",
       "\n",
       "             Total Purchase Value  \n",
       "Lisosia93                   18.96  \n",
       "Iral74                      13.62  \n",
       "Idastidru52                 15.45  \n",
       "Raesty92                     8.73  \n",
       "Yathecal82                   6.22  "
      ]
     },
     "execution_count": 11,
     "metadata": {},
     "output_type": "execute_result"
    }
   ],
   "source": [
    "purchase_data = pd.read_csv(file_to_load)\n",
    "user_purchases = pd.DataFrame(purchase_data['SN'].value_counts())\n",
    "user_purchases['SN'] = user_purchases.index\n",
    "\n",
    "\n",
    "for SN in user_purchases['SN']:\n",
    "    SN_Group = purchase_data.loc[purchase_data['SN'] == SN]\n",
    "    user_purchases.loc[SN, 'Number of Purchases'] = SN_Group['Item ID'].count()\n",
    "    user_purchases.loc[SN, 'Average Purchase Price'] = round(SN_Group[\"Price\"].mean(), 2)\n",
    "    user_purchases.loc[SN, 'Total Purchase Value'] = (SN_Group[\"Price\"].sum())\n",
    "    \n",
    "user_purchases.sort_values(['Total Purchase Value'], ascending=False)\n",
    "user_purchases.head()"
   ]
  },
  {
   "cell_type": "code",
   "execution_count": 12,
   "metadata": {},
   "outputs": [
    {
     "data": {
      "text/html": [
       "<div>\n",
       "<style scoped>\n",
       "    .dataframe tbody tr th:only-of-type {\n",
       "        vertical-align: middle;\n",
       "    }\n",
       "\n",
       "    .dataframe tbody tr th {\n",
       "        vertical-align: top;\n",
       "    }\n",
       "\n",
       "    .dataframe thead th {\n",
       "        text-align: right;\n",
       "    }\n",
       "</style>\n",
       "<table border=\"1\" class=\"dataframe\">\n",
       "  <thead>\n",
       "    <tr style=\"text-align: right;\">\n",
       "      <th></th>\n",
       "      <th></th>\n",
       "      <th>Price</th>\n",
       "      <th>Occurences</th>\n",
       "      <th>Total Purchase Value</th>\n",
       "    </tr>\n",
       "    <tr>\n",
       "      <th>Item ID</th>\n",
       "      <th>Item Name</th>\n",
       "      <th></th>\n",
       "      <th></th>\n",
       "      <th></th>\n",
       "    </tr>\n",
       "  </thead>\n",
       "  <tbody>\n",
       "    <tr>\n",
       "      <th>178</th>\n",
       "      <th>Oathbreaker, Last Hope of the Breaking Storm</th>\n",
       "      <td>4.23</td>\n",
       "      <td>12</td>\n",
       "      <td>50.76</td>\n",
       "    </tr>\n",
       "    <tr>\n",
       "      <th>145</th>\n",
       "      <th>Fiery Glass Crusader</th>\n",
       "      <td>4.58</td>\n",
       "      <td>9</td>\n",
       "      <td>41.22</td>\n",
       "    </tr>\n",
       "    <tr>\n",
       "      <th>108</th>\n",
       "      <th>Extraction, Quickblade Of Trembling Hands</th>\n",
       "      <td>3.53</td>\n",
       "      <td>9</td>\n",
       "      <td>31.77</td>\n",
       "    </tr>\n",
       "    <tr>\n",
       "      <th>82</th>\n",
       "      <th>Nirvana</th>\n",
       "      <td>4.90</td>\n",
       "      <td>9</td>\n",
       "      <td>44.10</td>\n",
       "    </tr>\n",
       "    <tr>\n",
       "      <th>19</th>\n",
       "      <th>Pursuit, Cudgel of Necromancy</th>\n",
       "      <td>1.02</td>\n",
       "      <td>8</td>\n",
       "      <td>8.16</td>\n",
       "    </tr>\n",
       "  </tbody>\n",
       "</table>\n",
       "</div>"
      ],
      "text/plain": [
       "                                                      Price  Occurences  \\\n",
       "Item ID Item Name                                                         \n",
       "178     Oathbreaker, Last Hope of the Breaking Storm   4.23          12   \n",
       "145     Fiery Glass Crusader                           4.58           9   \n",
       "108     Extraction, Quickblade Of Trembling Hands      3.53           9   \n",
       "82      Nirvana                                        4.90           9   \n",
       "19      Pursuit, Cudgel of Necromancy                  1.02           8   \n",
       "\n",
       "                                                      Total Purchase Value  \n",
       "Item ID Item Name                                                           \n",
       "178     Oathbreaker, Last Hope of the Breaking Storm                 50.76  \n",
       "145     Fiery Glass Crusader                                         41.22  \n",
       "108     Extraction, Quickblade Of Trembling Hands                    31.77  \n",
       "82      Nirvana                                                      44.10  \n",
       "19      Pursuit, Cudgel of Necromancy                                 8.16  "
      ]
     },
     "execution_count": 12,
     "metadata": {},
     "output_type": "execute_result"
    }
   ],
   "source": [
    "Most_Popular_Items = purchase_data[['Item ID','Item Name', 'Price']]\n",
    "Popular_Items_Count = Most_Popular_Items.groupby(['Item ID','Item Name']).count()\n",
    "Popular_Items_Count['Occurences'] = pd.DataFrame(Popular_Items_Count)\n",
    "\n",
    "for id in purchase_data['Item ID']:\n",
    "    \n",
    "    I_Group = purchase_data.loc[purchase_data['Item ID'] == id]\n",
    "    Popular_Items_Count.loc[id, 'Total Purchase Value'] = (I_Group[\"Price\"].sum())\n",
    "    ## THIS WOULDNT SAVE WITHOUT THE .MEAN() INCLUDED??##\n",
    "    Popular_Items_Count.loc[id, 'Price'] = round(I_Group[\"Price\"].mean(), 2)\n",
    "Popular_Items_Count= Popular_Items_Count.sort_values('Occurences', ascending=False)\n",
    "Popular_Items_Count.head()"
   ]
  },
  {
   "cell_type": "code",
   "execution_count": 13,
   "metadata": {},
   "outputs": [
    {
     "data": {
      "text/html": [
       "<div>\n",
       "<style scoped>\n",
       "    .dataframe tbody tr th:only-of-type {\n",
       "        vertical-align: middle;\n",
       "    }\n",
       "\n",
       "    .dataframe tbody tr th {\n",
       "        vertical-align: top;\n",
       "    }\n",
       "\n",
       "    .dataframe thead th {\n",
       "        text-align: right;\n",
       "    }\n",
       "</style>\n",
       "<table border=\"1\" class=\"dataframe\">\n",
       "  <thead>\n",
       "    <tr style=\"text-align: right;\">\n",
       "      <th></th>\n",
       "      <th></th>\n",
       "      <th>Price</th>\n",
       "      <th>Occurences</th>\n",
       "      <th>Total Purchase Value</th>\n",
       "    </tr>\n",
       "    <tr>\n",
       "      <th>Item ID</th>\n",
       "      <th>Item Name</th>\n",
       "      <th></th>\n",
       "      <th></th>\n",
       "      <th></th>\n",
       "    </tr>\n",
       "  </thead>\n",
       "  <tbody>\n",
       "    <tr>\n",
       "      <th>178</th>\n",
       "      <th>Oathbreaker, Last Hope of the Breaking Storm</th>\n",
       "      <td>4.23</td>\n",
       "      <td>12</td>\n",
       "      <td>50.76</td>\n",
       "    </tr>\n",
       "    <tr>\n",
       "      <th>82</th>\n",
       "      <th>Nirvana</th>\n",
       "      <td>4.90</td>\n",
       "      <td>9</td>\n",
       "      <td>44.10</td>\n",
       "    </tr>\n",
       "    <tr>\n",
       "      <th>145</th>\n",
       "      <th>Fiery Glass Crusader</th>\n",
       "      <td>4.58</td>\n",
       "      <td>9</td>\n",
       "      <td>41.22</td>\n",
       "    </tr>\n",
       "    <tr>\n",
       "      <th>92</th>\n",
       "      <th>Final Critic</th>\n",
       "      <td>4.88</td>\n",
       "      <td>8</td>\n",
       "      <td>39.04</td>\n",
       "    </tr>\n",
       "    <tr>\n",
       "      <th>103</th>\n",
       "      <th>Singed Scalpel</th>\n",
       "      <td>4.35</td>\n",
       "      <td>8</td>\n",
       "      <td>34.80</td>\n",
       "    </tr>\n",
       "  </tbody>\n",
       "</table>\n",
       "</div>"
      ],
      "text/plain": [
       "                                                      Price  Occurences  \\\n",
       "Item ID Item Name                                                         \n",
       "178     Oathbreaker, Last Hope of the Breaking Storm   4.23          12   \n",
       "82      Nirvana                                        4.90           9   \n",
       "145     Fiery Glass Crusader                           4.58           9   \n",
       "92      Final Critic                                   4.88           8   \n",
       "103     Singed Scalpel                                 4.35           8   \n",
       "\n",
       "                                                      Total Purchase Value  \n",
       "Item ID Item Name                                                           \n",
       "178     Oathbreaker, Last Hope of the Breaking Storm                 50.76  \n",
       "82      Nirvana                                                      44.10  \n",
       "145     Fiery Glass Crusader                                         41.22  \n",
       "92      Final Critic                                                 39.04  \n",
       "103     Singed Scalpel                                               34.80  "
      ]
     },
     "execution_count": 13,
     "metadata": {},
     "output_type": "execute_result"
    }
   ],
   "source": [
    "Profitable_Items= Popular_Items_Count.sort_values('Total Purchase Value', ascending=False)\n",
    "Profitable_Items.head()"
   ]
  },
  {
   "cell_type": "code",
   "execution_count": null,
   "metadata": {},
   "outputs": [],
   "source": []
  },
  {
   "cell_type": "code",
   "execution_count": null,
   "metadata": {},
   "outputs": [],
   "source": []
  },
  {
   "cell_type": "code",
   "execution_count": null,
   "metadata": {},
   "outputs": [],
   "source": []
  }
 ],
 "metadata": {
  "anaconda-cloud": {},
  "kernel_info": {
   "name": "python3"
  },
  "kernelspec": {
   "display_name": "Python [default]",
   "language": "python",
   "name": "python3"
  },
  "language_info": {
   "codemirror_mode": {
    "name": "ipython",
    "version": 3
   },
   "file_extension": ".py",
   "mimetype": "text/x-python",
   "name": "python",
   "nbconvert_exporter": "python",
   "pygments_lexer": "ipython3",
   "version": "3.6.5"
  },
  "nteract": {
   "version": "0.8.4"
  }
 },
 "nbformat": 4,
 "nbformat_minor": 1
}
